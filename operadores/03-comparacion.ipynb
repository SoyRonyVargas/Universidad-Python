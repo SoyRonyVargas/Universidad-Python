{
 "cells": [
  {
   "cell_type": "code",
   "execution_count": 10,
   "metadata": {},
   "outputs": [
    {
     "name": "stdout",
     "output_type": "stream",
     "text": [
      "miVariable == 10\n",
      "False\n",
      "\n",
      "miVariable > 10\n",
      "True\n",
      "\n",
      "miVariable >= 10\n",
      "True\n",
      "\n",
      "miVariable < 10\n",
      "False\n",
      "\n",
      "miVariable <= 10\n",
      "False\n"
     ]
    }
   ],
   "source": [
    "miVariable = 12\n",
    "\n",
    "resultado = miVariable == 10\n",
    "\n",
    "resultadoMayor = miVariable > 10\n",
    "\n",
    "resultadoMayorIgual = miVariable >= 10\n",
    "\n",
    "resultadoMenor = miVariable < 10\n",
    "resultadoMenorIgual = miVariable <= 10\n",
    "\n",
    "print('miVariable == 10')\n",
    "print(resultado)\n",
    "\n",
    "print()\n",
    "\n",
    "print('miVariable > 10')\n",
    "print(resultadoMayor)\n",
    "\n",
    "print()\n",
    "\n",
    "print('miVariable >= 10')\n",
    "print(resultadoMayorIgual)\n",
    "\n",
    "print()\n",
    "\n",
    "print('miVariable < 10')\n",
    "print(resultadoMenor)\n",
    "\n",
    "print()\n",
    "\n",
    "print('miVariable <= 10')\n",
    "print(resultadoMenorIgual)"
   ]
  }
 ],
 "metadata": {
  "kernelspec": {
   "display_name": "Python 3",
   "language": "python",
   "name": "python3"
  },
  "language_info": {
   "codemirror_mode": {
    "name": "ipython",
    "version": 3
   },
   "file_extension": ".py",
   "mimetype": "text/x-python",
   "name": "python",
   "nbconvert_exporter": "python",
   "pygments_lexer": "ipython3",
   "version": "3.10.11"
  }
 },
 "nbformat": 4,
 "nbformat_minor": 2
}
