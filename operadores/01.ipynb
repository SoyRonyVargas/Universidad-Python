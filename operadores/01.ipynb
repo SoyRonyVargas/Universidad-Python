{
 "cells": [
  {
   "cell_type": "markdown",
   "metadata": {},
   "source": [
    "### Suma"
   ]
  },
  {
   "cell_type": "code",
   "execution_count": 20,
   "metadata": {},
   "outputs": [
    {
     "name": "stdout",
     "output_type": "stream",
     "text": [
      "Suma: 5\n"
     ]
    }
   ],
   "source": [
    "# Suma\n",
    "operandoA = 1\n",
    "operandoB = 4\n",
    "\n",
    "suma = operandoA + operandoB\n",
    "\n",
    "print(f\"Suma: {suma}\" )"
   ]
  },
  {
   "cell_type": "markdown",
   "metadata": {},
   "source": [
    "### Resta"
   ]
  },
  {
   "cell_type": "code",
   "execution_count": 21,
   "metadata": {},
   "outputs": [
    {
     "name": "stdout",
     "output_type": "stream",
     "text": [
      "Resta: 8\n"
     ]
    }
   ],
   "source": [
    "operandoA = 10\n",
    "operandoB = 2\n",
    "\n",
    "resta = operandoA - operandoB\n",
    "\n",
    "print(f\"Resta: {resta}\" )"
   ]
  },
  {
   "cell_type": "markdown",
   "metadata": {},
   "source": [
    "### Multiplicacion"
   ]
  },
  {
   "cell_type": "code",
   "execution_count": 22,
   "metadata": {},
   "outputs": [
    {
     "name": "stdout",
     "output_type": "stream",
     "text": [
      "Multiplicacion: 20\n"
     ]
    }
   ],
   "source": [
    "operandoA = 10\n",
    "operandoB = 2\n",
    "\n",
    "Multiplicacion = operandoA * operandoB\n",
    "\n",
    "print(f\"Multiplicacion: {Multiplicacion}\" )"
   ]
  },
  {
   "cell_type": "markdown",
   "metadata": {},
   "source": [
    "### Division"
   ]
  },
  {
   "cell_type": "code",
   "execution_count": 23,
   "metadata": {},
   "outputs": [
    {
     "name": "stdout",
     "output_type": "stream",
     "text": [
      "Division: 5.5\n",
      "DivisionEntera: 5\n",
      "Residuo: 1\n"
     ]
    }
   ],
   "source": [
    "operandoA = 11\n",
    "operandoB = 2\n",
    "\n",
    "Division = operandoA / operandoB\n",
    "DivisionEntera = operandoA // operandoB\n",
    "Residuo = operandoA % operandoB\n",
    "\n",
    "print(f\"Division: {Division}\" )\n",
    "print(f\"DivisionEntera: {DivisionEntera}\" )\n",
    "print(f\"Residuo: {Residuo}\" )"
   ]
  },
  {
   "cell_type": "markdown",
   "metadata": {},
   "source": [
    "### Exponente"
   ]
  },
  {
   "cell_type": "code",
   "execution_count": 24,
   "metadata": {},
   "outputs": [
    {
     "name": "stdout",
     "output_type": "stream",
     "text": [
      "Exponente: 9\n"
     ]
    }
   ],
   "source": [
    "operandoA = 3\n",
    "operandoB = 2\n",
    "\n",
    "Exponente = operandoA ** operandoB\n",
    "print(f\"Exponente: {Exponente}\" )"
   ]
  }
 ],
 "metadata": {
  "kernelspec": {
   "display_name": "Python 3",
   "language": "python",
   "name": "python3"
  },
  "language_info": {
   "codemirror_mode": {
    "name": "ipython",
    "version": 3
   },
   "file_extension": ".py",
   "mimetype": "text/x-python",
   "name": "python",
   "nbconvert_exporter": "python",
   "pygments_lexer": "ipython3",
   "version": "3.10.11"
  }
 },
 "nbformat": 4,
 "nbformat_minor": 2
}
