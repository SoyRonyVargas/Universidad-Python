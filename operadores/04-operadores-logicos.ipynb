{
 "cells": [
  {
   "cell_type": "markdown",
   "metadata": {},
   "source": [
    "## And"
   ]
  },
  {
   "cell_type": "code",
   "execution_count": 17,
   "metadata": {},
   "outputs": [
    {
     "name": "stdout",
     "output_type": "stream",
     "text": [
      "True and False\n",
      "False\n",
      "\n",
      "True or False\n",
      "True\n"
     ]
    }
   ],
   "source": [
    "a = True\n",
    "b = False\n",
    "\n",
    "expresion = a and b\n",
    "expresionOr = a or b\n",
    "\n",
    "print(f'{a} and {b}')\n",
    "print(expresion)\n",
    "\n",
    "print()\n",
    "\n",
    "print(f'{a} or {b}')\n",
    "print(expresionOr)"
   ]
  },
  {
   "cell_type": "code",
   "execution_count": 18,
   "metadata": {},
   "outputs": [
    {
     "ename": "ValueError",
     "evalue": "invalid literal for int() with base 10: ''",
     "output_type": "error",
     "traceback": [
      "\u001b[1;31m---------------------------------------------------------------------------\u001b[0m",
      "\u001b[1;31mValueError\u001b[0m                                Traceback (most recent call last)",
      "Cell \u001b[1;32mIn[18], line 3\u001b[0m\n\u001b[0;32m      1\u001b[0m valorMin \u001b[38;5;241m=\u001b[39m \u001b[38;5;28mint\u001b[39m(\u001b[38;5;28minput\u001b[39m(\u001b[38;5;124m\"\u001b[39m\u001b[38;5;124mDame el valor minimo\u001b[39m\u001b[38;5;124m\"\u001b[39m))\n\u001b[0;32m      2\u001b[0m valorMax \u001b[38;5;241m=\u001b[39m \u001b[38;5;28mint\u001b[39m(\u001b[38;5;28minput\u001b[39m(\u001b[38;5;124m\"\u001b[39m\u001b[38;5;124mDame el valor maximo\u001b[39m\u001b[38;5;124m\"\u001b[39m))\n\u001b[1;32m----> 3\u001b[0m valorNormal \u001b[38;5;241m=\u001b[39m \u001b[38;5;28;43mint\u001b[39;49m\u001b[43m(\u001b[49m\u001b[38;5;28;43minput\u001b[39;49m\u001b[43m(\u001b[49m\u001b[38;5;124;43m\"\u001b[39;49m\u001b[38;5;124;43mDame el valor del rango\u001b[39;49m\u001b[38;5;124;43m\"\u001b[39;49m\u001b[43m)\u001b[49m\u001b[43m)\u001b[49m\n\u001b[0;32m      5\u001b[0m \u001b[38;5;28;01mif\u001b[39;00m valorNormal \u001b[38;5;241m>\u001b[39m\u001b[38;5;241m=\u001b[39m valorMin \u001b[38;5;129;01mand\u001b[39;00m valorNormal \u001b[38;5;241m<\u001b[39m\u001b[38;5;241m=\u001b[39m valorMax:\n\u001b[0;32m      6\u001b[0m     \u001b[38;5;28mprint\u001b[39m(\u001b[38;5;124m\"\u001b[39m\u001b[38;5;124mSI esta dentro del rango\u001b[39m\u001b[38;5;124m\"\u001b[39m)\n",
      "\u001b[1;31mValueError\u001b[0m: invalid literal for int() with base 10: ''"
     ]
    }
   ],
   "source": [
    "valorMin = int(input(\"Dame el valor minimo\"))\n",
    "valorMax = int(input(\"Dame el valor maximo\"))\n",
    "valorNormal = int(input(\"Dame el valor del rango\"))\n",
    "\n",
    "if valorNormal >= valorMin and valorNormal <= valorMax:\n",
    "    print(\"SI esta dentro del rango\")\n",
    "else:\n",
    "    print(\"NO esta dentro del rango\")"
   ]
  },
  {
   "cell_type": "markdown",
   "metadata": {},
   "source": [
    "### NOT"
   ]
  },
  {
   "cell_type": "code",
   "execution_count": null,
   "metadata": {},
   "outputs": [
    {
     "name": "stdout",
     "output_type": "stream",
     "text": [
      "No Puede asistir al juego\n"
     ]
    }
   ],
   "source": [
    "vacaciones = True\n",
    "diaDescanso = False\n",
    "\n",
    "if not(vacaciones or diaDescanso):\n",
    "    print(\"Puede asistir al juego\")\n",
    "else:\n",
    "    print(\"No Puede asistir al juego\")"
   ]
  },
  {
   "cell_type": "markdown",
   "metadata": {},
   "source": [
    "### Ejercicio"
   ]
  },
  {
   "cell_type": "code",
   "execution_count": null,
   "metadata": {},
   "outputs": [
    {
     "name": "stdout",
     "output_type": "stream",
     "text": [
      "Estas en el rango 20's\n"
     ]
    }
   ],
   "source": [
    "edad = int(input(\"Edad: \"))\n",
    "\n",
    "# veintes = edad >= 20 and edad < 30\n",
    "# treintas = edad >= 30 and edad < 40\n",
    "veintes = 20 <= edad < 30\n",
    "treintas =  30 <= edad < 40\n",
    "\n",
    "if veintes or treintas:\n",
    "    \n",
    "    if veintes:\n",
    "        print(\"Estas en el rango 20's\")\n",
    "    \n",
    "    if treintas:\n",
    "        print(\"Estas en el rango 30's\")\n",
    "    "
   ]
  },
  {
   "cell_type": "markdown",
   "metadata": {},
   "source": [
    "### Ejercicio 2"
   ]
  },
  {
   "cell_type": "code",
   "execution_count": 22,
   "metadata": {},
   "outputs": [
    {
     "name": "stdout",
     "output_type": "stream",
     "text": [
      "4 es iguala a 4\n"
     ]
    }
   ],
   "source": [
    "num1 = int(input(\"Num1: \"))\n",
    "num2 = int(input(\"Num2: \"))\n",
    "\n",
    "if num1 > num2:\n",
    "    print(f\"{num1} es mayor {num2}\")\n",
    "elif num1 == num2:\n",
    "    print(f\"{num1} es igual a {num2}\")\n",
    "else:\n",
    "    print(f\"{num2} es mayor a {num1}\")\n"
   ]
  }
 ],
 "metadata": {
  "kernelspec": {
   "display_name": "Python 3",
   "language": "python",
   "name": "python3"
  },
  "language_info": {
   "codemirror_mode": {
    "name": "ipython",
    "version": 3
   },
   "file_extension": ".py",
   "mimetype": "text/x-python",
   "name": "python",
   "nbconvert_exporter": "python",
   "pygments_lexer": "ipython3",
   "version": "3.10.11"
  }
 },
 "nbformat": 4,
 "nbformat_minor": 2
}
