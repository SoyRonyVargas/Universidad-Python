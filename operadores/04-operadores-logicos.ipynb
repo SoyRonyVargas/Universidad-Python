{
 "cells": [
  {
   "cell_type": "markdown",
   "metadata": {},
   "source": [
    "## And"
   ]
  },
  {
   "cell_type": "code",
   "execution_count": 8,
   "metadata": {},
   "outputs": [
    {
     "name": "stdout",
     "output_type": "stream",
     "text": [
      "True and False\n",
      "False\n",
      "\n",
      "True or False\n",
      "True\n"
     ]
    }
   ],
   "source": [
    "a = True\n",
    "b = False\n",
    "\n",
    "expresion = a and b\n",
    "expresionOr = a or b\n",
    "\n",
    "print(f'{a} and {b}')\n",
    "print(expresion)\n",
    "\n",
    "print()\n",
    "\n",
    "print(f'{a} or {b}')\n",
    "print(expresionOr)"
   ]
  },
  {
   "cell_type": "code",
   "execution_count": 9,
   "metadata": {},
   "outputs": [
    {
     "name": "stdout",
     "output_type": "stream",
     "text": [
      "NO esta dentro del rango\n"
     ]
    }
   ],
   "source": [
    "valorMin = int(input(\"Dame el valor minimo\"))\n",
    "valorMax = int(input(\"Dame el valor maximo\"))\n",
    "valorNormal = int(input(\"Dame el valor del rango\"))\n",
    "\n",
    "if valorNormal >= valorMin and valorNormal <= valorMax:\n",
    "    print(\"SI esta dentro del rango\")\n",
    "else:\n",
    "    print(\"NO esta dentro del rango\")"
   ]
  }
 ],
 "metadata": {
  "kernelspec": {
   "display_name": "Python 3",
   "language": "python",
   "name": "python3"
  },
  "language_info": {
   "codemirror_mode": {
    "name": "ipython",
    "version": 3
   },
   "file_extension": ".py",
   "mimetype": "text/x-python",
   "name": "python",
   "nbconvert_exporter": "python",
   "pygments_lexer": "ipython3",
   "version": "3.10.11"
  }
 },
 "nbformat": 4,
 "nbformat_minor": 2
}
