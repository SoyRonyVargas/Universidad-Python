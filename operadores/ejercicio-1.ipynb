{
 "cells": [
  {
   "cell_type": "code",
   "execution_count": 2,
   "metadata": {},
   "outputs": [
    {
     "name": "stdout",
     "output_type": "stream",
     "text": [
      "Area: 15\n",
      "Perimetro: 16\n"
     ]
    }
   ],
   "source": [
    "alto = int(input(\"Alto:\"))\n",
    "ancho = int(input(\"Ancho:\"))\n",
    "\n",
    "area = alto * ancho \n",
    "perimetro = ( alto + ancho ) * 2\n",
    "\n",
    "print(f\"Area: {area}\")\n",
    "print(f\"Perimetro: {perimetro}\")"
   ]
  }
 ],
 "metadata": {
  "kernelspec": {
   "display_name": "Python 3",
   "language": "python",
   "name": "python3"
  },
  "language_info": {
   "codemirror_mode": {
    "name": "ipython",
    "version": 3
   },
   "file_extension": ".py",
   "mimetype": "text/x-python",
   "name": "python",
   "nbconvert_exporter": "python",
   "pygments_lexer": "ipython3",
   "version": "3.10.11"
  }
 },
 "nbformat": 4,
 "nbformat_minor": 2
}
