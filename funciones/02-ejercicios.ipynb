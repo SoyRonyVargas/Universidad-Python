{
 "cells": [
  {
   "cell_type": "code",
   "execution_count": 2,
   "metadata": {},
   "outputs": [
    {
     "name": "stdout",
     "output_type": "stream",
     "text": [
      "Suma: 20\n"
     ]
    }
   ],
   "source": [
    "def sumarNumeros( *args ) -> int:\n",
    "    suma=0\n",
    "    for i in args:\n",
    "        suma+=i\n",
    "    return suma\n",
    "\n",
    "print(f\"Suma: {sumarNumeros(7,8,1,4)}\")"
   ]
  },
  {
   "cell_type": "code",
   "execution_count": 3,
   "metadata": {},
   "outputs": [
    {
     "name": "stdout",
     "output_type": "stream",
     "text": [
      "Multiplicacion: 675\n"
     ]
    }
   ],
   "source": [
    "def multiplicarNumeros( *args ) -> int:\n",
    "    m=1\n",
    "    for i in args:\n",
    "        m*=i\n",
    "    return m\n",
    "\n",
    "print(f\"Multiplicacion: {multiplicarNumeros(3,5,15,3)}\")"
   ]
  },
  {
   "cell_type": "markdown",
   "metadata": {},
   "source": [
    "Funciones recursivas"
   ]
  },
  {
   "cell_type": "code",
   "execution_count": 4,
   "metadata": {},
   "outputs": [
    {
     "name": "stdout",
     "output_type": "stream",
     "text": [
      "Factorial de 5: 120\n"
     ]
    }
   ],
   "source": [
    "def factorial(n):\n",
    "    if n == 0 or n == 1:\n",
    "        return 1\n",
    "    x = n * factorial( n - 1 )\n",
    "    return x\n",
    "n = 5\n",
    "z = factorial(n)\n",
    "print(f\"Factorial de {n}: {z}\")"
   ]
  },
  {
   "cell_type": "code",
   "execution_count": 5,
   "metadata": {},
   "outputs": [
    {
     "name": "stdout",
     "output_type": "stream",
     "text": [
      "32\n",
      "31\n",
      "30\n",
      "29\n",
      "28\n",
      "27\n",
      "26\n",
      "25\n",
      "24\n",
      "23\n",
      "22\n",
      "21\n",
      "20\n",
      "19\n",
      "18\n",
      "17\n",
      "16\n",
      "15\n",
      "14\n",
      "13\n",
      "12\n",
      "11\n",
      "10\n",
      "9\n",
      "8\n",
      "7\n",
      "6\n",
      "5\n",
      "4\n",
      "3\n",
      "2\n"
     ]
    },
    {
     "data": {
      "text/plain": [
       "1"
      ]
     },
     "execution_count": 5,
     "metadata": {},
     "output_type": "execute_result"
    }
   ],
   "source": [
    "def imprimir(n):\n",
    "    if n <= 1:\n",
    "        return 1\n",
    "    print(n)\n",
    "    return imprimir(n-1)\n",
    "\n",
    "inicio = int(input(\"Dame un numero: \"))\n",
    "\n",
    "imprimir(inicio)\n",
    "\n"
   ]
  },
  {
   "cell_type": "markdown",
   "metadata": {},
   "source": [
    "Calculadora de impuestos    "
   ]
  },
  {
   "cell_type": "code",
   "execution_count": 6,
   "metadata": {},
   "outputs": [
    {
     "ename": "ValueError",
     "evalue": "invalid literal for int() with base 10: ''",
     "output_type": "error",
     "traceback": [
      "\u001b[1;31m---------------------------------------------------------------------------\u001b[0m",
      "\u001b[1;31mValueError\u001b[0m                                Traceback (most recent call last)",
      "Cell \u001b[1;32mIn[6], line 8\u001b[0m\n\u001b[0;32m      5\u001b[0m     \u001b[38;5;28;01mreturn\u001b[39;00m importe \u001b[38;5;241m+\u001b[39m _iva\n\u001b[0;32m      7\u001b[0m importe \u001b[38;5;241m=\u001b[39m \u001b[38;5;28mint\u001b[39m(\u001b[38;5;28minput\u001b[39m(\u001b[38;5;124m\"\u001b[39m\u001b[38;5;124mDame el pago sin impuesto: \u001b[39m\u001b[38;5;124m\"\u001b[39m))\n\u001b[1;32m----> 8\u001b[0m iva \u001b[38;5;241m=\u001b[39m \u001b[38;5;28;43mint\u001b[39;49m\u001b[43m(\u001b[49m\u001b[38;5;28;43minput\u001b[39;49m\u001b[43m(\u001b[49m\u001b[38;5;124;43m\"\u001b[39;49m\u001b[38;5;124;43mImpuesto \u001b[39;49m\u001b[38;5;124;43m%\u001b[39;49m\u001b[38;5;124;43m: \u001b[39;49m\u001b[38;5;124;43m\"\u001b[39;49m\u001b[43m)\u001b[49m\u001b[43m)\u001b[49m\n\u001b[0;32m      9\u001b[0m total \u001b[38;5;241m=\u001b[39m calcTotal(importe , iva)\n\u001b[0;32m     10\u001b[0m \u001b[38;5;28mprint\u001b[39m(\u001b[38;5;124mf\u001b[39m\u001b[38;5;124m\"\u001b[39m\u001b[38;5;124mTotal a pagar: $\u001b[39m\u001b[38;5;132;01m{\u001b[39;00mtotal\u001b[38;5;132;01m}\u001b[39;00m\u001b[38;5;124m\"\u001b[39m)\n",
      "\u001b[1;31mValueError\u001b[0m: invalid literal for int() with base 10: ''"
     ]
    }
   ],
   "source": [
    "def calcTotal( importe , iva = 16 ):\n",
    "    \n",
    "    _iva = importe * (iva/100)\n",
    "\n",
    "    return importe + _iva\n",
    "\n",
    "importe = int(input(\"Dame el pago sin impuesto: \"))\n",
    "iva = int(input(\"Impuesto %: \"))\n",
    "total = calcTotal(importe , iva)\n",
    "print(f\"Total a pagar: ${total}\")\n"
   ]
  },
  {
   "cell_type": "markdown",
   "metadata": {},
   "source": [
    "Convertidor de temperaturas"
   ]
  },
  {
   "cell_type": "code",
   "execution_count": 7,
   "metadata": {},
   "outputs": [
    {
     "name": "stdout",
     "output_type": "stream",
     "text": [
      "celsiusAFahrenheit: 89.6\n",
      "fahrenheitACelsius: -16.666666666666668\n"
     ]
    }
   ],
   "source": [
    "def celsiusAFahrenheit( temp_celsius ):\n",
    "\n",
    "    f = (temp_celsius * 9/5)  + 32\n",
    "\n",
    "    return f\n",
    "\n",
    "def fahrenheitACelsius( temp_fahrenheit ):\n",
    "\n",
    "    f = ( (5/9) * ( temp_fahrenheit - 32 ) )\n",
    "\n",
    "    return f\n",
    "\n",
    "c1 = int(input(\"Dame temperatura celsius: \"))\n",
    "c1 = celsiusAFahrenheit(c1)\n",
    "print(f\"celsiusAFahrenheit: {c1}\")\n",
    "\n",
    "f1 = int(input(\"Dame temperatura fahrenheit: \"))\n",
    "f1 = fahrenheitACelsius(f1)\n",
    "print(f\"fahrenheitACelsius: {f1}\")\n"
   ]
  }
 ],
 "metadata": {
  "kernelspec": {
   "display_name": "Python 3",
   "language": "python",
   "name": "python3"
  },
  "language_info": {
   "codemirror_mode": {
    "name": "ipython",
    "version": 3
   },
   "file_extension": ".py",
   "mimetype": "text/x-python",
   "name": "python",
   "nbconvert_exporter": "python",
   "pygments_lexer": "ipython3",
   "version": "3.10.11"
  }
 },
 "nbformat": 4,
 "nbformat_minor": 2
}
