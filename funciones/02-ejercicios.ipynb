{
 "cells": [
  {
   "cell_type": "code",
   "execution_count": 2,
   "metadata": {},
   "outputs": [
    {
     "name": "stdout",
     "output_type": "stream",
     "text": [
      "Suma: 20\n"
     ]
    }
   ],
   "source": [
    "def sumarNumeros( *args ) -> int:\n",
    "    suma=0\n",
    "    for i in args:\n",
    "        suma+=i\n",
    "    return suma\n",
    "\n",
    "print(f\"Suma: {sumarNumeros(7,8,1,4)}\")"
   ]
  },
  {
   "cell_type": "code",
   "execution_count": 7,
   "metadata": {},
   "outputs": [
    {
     "name": "stdout",
     "output_type": "stream",
     "text": [
      "Multiplicacion: 675\n"
     ]
    }
   ],
   "source": [
    "def multiplicarNumeros( *args ) -> int:\n",
    "    m=1\n",
    "    for i in args:\n",
    "        m*=i\n",
    "    return m\n",
    "\n",
    "print(f\"Multiplicacion: {multiplicarNumeros(3,5,15,3)}\")"
   ]
  }
 ],
 "metadata": {
  "kernelspec": {
   "display_name": "Python 3",
   "language": "python",
   "name": "python3"
  },
  "language_info": {
   "codemirror_mode": {
    "name": "ipython",
    "version": 3
   },
   "file_extension": ".py",
   "mimetype": "text/x-python",
   "name": "python",
   "nbconvert_exporter": "python",
   "pygments_lexer": "ipython3",
   "version": "3.12.0"
  }
 },
 "nbformat": 4,
 "nbformat_minor": 2
}
