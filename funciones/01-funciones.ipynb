{
 "cells": [
  {
   "cell_type": "code",
   "execution_count": 1,
   "metadata": {},
   "outputs": [
    {
     "name": "stdout",
     "output_type": "stream",
     "text": [
      "hola\n"
     ]
    }
   ],
   "source": [
    "def miFuncion():\n",
    "    print('hola')\n",
    "\n",
    "miFuncion()"
   ]
  },
  {
   "cell_type": "markdown",
   "metadata": {},
   "source": [
    "Mandar argumentos"
   ]
  },
  {
   "cell_type": "code",
   "execution_count": 5,
   "metadata": {},
   "outputs": [
    {
     "name": "stdout",
     "output_type": "stream",
     "text": [
      "hola: Milo Vargas\n",
      "hola: Edison Roblez\n"
     ]
    }
   ],
   "source": [
    "def miFuncion1(nombre , apellidos):\n",
    "    print(f'hola: {nombre} {apellidos}')\n",
    "\n",
    "miFuncion1('Milo', 'Vargas')\n",
    "miFuncion1('Edison', 'Roblez')"
   ]
  },
  {
   "cell_type": "markdown",
   "metadata": {},
   "source": [
    "Return y valores por defecto"
   ]
  },
  {
   "cell_type": "code",
   "execution_count": 11,
   "metadata": {},
   "outputs": [
    {
     "name": "stdout",
     "output_type": "stream",
     "text": [
      "12\n",
      "4\n",
      "0\n",
      "2\n",
      "0\n"
     ]
    }
   ],
   "source": [
    "def sumar( a:int = 0 , b:int = 0 ) -> int:\n",
    "    return a + b\n",
    "\n",
    "print(sumar(10 , 2))\n",
    "print(sumar(2 , 2))\n",
    "print(sumar(4 , -4))\n",
    "print(sumar(2))\n",
    "print(sumar())"
   ]
  },
  {
   "cell_type": "markdown",
   "metadata": {},
   "source": [
    "Parametros en uno solo"
   ]
  },
  {
   "cell_type": "code",
   "execution_count": 14,
   "metadata": {},
   "outputs": [
    {
     "name": "stdout",
     "output_type": "stream",
     "text": [
      "type: <class 'tuple'>\n",
      "Mario\n",
      "Edison\n",
      "Beto\n",
      "None\n"
     ]
    }
   ],
   "source": [
    "def listarNombres( *params ):\n",
    "    print(\"type: \" + str(type(params)) )\n",
    "    for i in params:\n",
    "        print(i)\n",
    "\n",
    "print(listarNombres(\"Mario\", 'Edison', 'Beto'))"
   ]
  },
  {
   "cell_type": "markdown",
   "metadata": {},
   "source": [
    "Argumentos variables llave valor (pasar diccionarios por parametro)"
   ]
  },
  {
   "cell_type": "code",
   "execution_count": 25,
   "metadata": {},
   "outputs": [
    {
     "name": "stdout",
     "output_type": "stream",
     "text": [
      "\n",
      "{'IDE': 'Algo', 'primaryKey': 1}\n",
      "IDE:Algo\n",
      "primaryKey:1\n",
      "\n",
      "{'IDE': 'Something', 'primaryKey': 2}\n",
      "IDE:Something\n",
      "primaryKey:2\n",
      "\n",
      "Milo\n",
      "param: Test\n",
      "param: Siguiente\n",
      "name:Milo por diccionario\n"
     ]
    }
   ],
   "source": [
    "def listarTerminos(**terminos):\n",
    "    print()\n",
    "    print(terminos)\n",
    "    for llave , valor in terminos.items():\n",
    "        print(f'{llave}:{valor}')\n",
    "\n",
    "# 1. parametro obligatorio\n",
    "# 2. argumentos variables (tupla)        \n",
    "# 3. argumentos clave valor\n",
    "def listarTerminosVariables( nombre , *args, **terminos):\n",
    "    print()\n",
    "    print(nombre)\n",
    "    for llave in args:\n",
    "        print(f'param: {llave}')\n",
    "    for llave , valor in terminos.items():\n",
    "        print(f'{llave}:{valor}')\n",
    "\n",
    "listarTerminos(\n",
    "    IDE='Algo',\n",
    "    primaryKey=1\n",
    ")\n",
    "\n",
    "listarTerminos(\n",
    "    IDE='Something',\n",
    "    primaryKey=2\n",
    ")\n",
    "\n",
    "listarTerminosVariables(\n",
    "    'Milo',\n",
    "    'Test',\n",
    "    'Siguiente',\n",
    "    name='Milo por diccionario'\n",
    ")"
   ]
  },
  {
   "cell_type": "markdown",
   "metadata": {},
   "source": [
    "Distintos tipos de datos"
   ]
  },
  {
   "cell_type": "code",
   "execution_count": 34,
   "metadata": {},
   "outputs": [
    {
     "name": "stdout",
     "output_type": "stream",
     "text": [
      "Lisa\n",
      "Mario\n",
      "Juan\n",
      "\n",
      "Mario\n",
      "Juan\n",
      "Lisa\n",
      "\n",
      "M\n",
      "a\n",
      "r\n",
      "i\n",
      "o\n",
      "\n",
      "10\n",
      "11\n",
      "\n"
     ]
    }
   ],
   "source": [
    "def desplegarNombres(nombres):\n",
    "    for nombre in nombres:\n",
    "        print(nombre)\n",
    "    print()\n",
    "\n",
    "nombres = ['Mario', 'Juan', 'Lisa']\n",
    "nombresSet = {'Mario', 'Juan', 'Lisa'}\n",
    "\n",
    "desplegarNombres(nombresSet)\n",
    "\n",
    "desplegarNombres(nombres)\n",
    "\n",
    "# Itera la lista de el string porque es un iterable\n",
    "desplegarNombres(nombres[0])\n",
    "\n",
    "# Itera la tupla de numeros porque es un iterable\n",
    "desplegarNombres((10,11))"
   ]
  }
 ],
 "metadata": {
  "kernelspec": {
   "display_name": "Python 3",
   "language": "python",
   "name": "python3"
  },
  "language_info": {
   "codemirror_mode": {
    "name": "ipython",
    "version": 3
   },
   "file_extension": ".py",
   "mimetype": "text/x-python",
   "name": "python",
   "nbconvert_exporter": "python",
   "pygments_lexer": "ipython3",
   "version": "3.12.0"
  }
 },
 "nbformat": 4,
 "nbformat_minor": 2
}
