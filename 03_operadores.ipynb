{
 "cells": [],
 "metadata": {
  "kernelspec": {
   "display_name": "Python 3",
   "language": "python",
   "name": "python3"
  },
  "language_info": {
   "name": "python",
   "version": "3.10.10"
  },
  "orig_nbformat": 4,
  "vscode": {
   "interpreter": {
    "hash": "1300236864cd79a7797f79b8f967c3861f9d18395da788280e648157cb3e89b0"
   }
  }
 },
 "nbformat": 4,
 "nbformat_minor": 2
}
