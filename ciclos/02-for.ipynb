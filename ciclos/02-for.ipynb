{
 "cells": [
  {
   "cell_type": "code",
   "execution_count": 8,
   "metadata": {},
   "outputs": [
    {
     "name": "stdout",
     "output_type": "stream",
     "text": [
      "H\n",
      "o\n",
      "l\n",
      "Letra encontrada\n",
      " \n",
      "M\n",
      "u\n",
      "n\n",
      "d\n",
      "Letra encontrada\n",
      "o\n",
      "0\n",
      "1\n",
      "2\n",
      "3\n",
      "4\n",
      "5\n",
      "6\n",
      "7\n",
      "8\n",
      "9\n"
     ]
    }
   ],
   "source": [
    "cadena = 'Hola Mundao'\n",
    "\n",
    "for i in cadena:\n",
    "    if i == 'a':\n",
    "        print(\"Letra encontrada\")\n",
    "        # break\n",
    "        continue\n",
    "    print(i)\n",
    "\n",
    "for i in range( 0 , 10 ):\n",
    "    print(i)"
   ]
  }
 ],
 "metadata": {
  "kernelspec": {
   "display_name": "Python 3",
   "language": "python",
   "name": "python3"
  },
  "language_info": {
   "codemirror_mode": {
    "name": "ipython",
    "version": 3
   },
   "file_extension": ".py",
   "mimetype": "text/x-python",
   "name": "python",
   "nbconvert_exporter": "python",
   "pygments_lexer": "ipython3",
   "version": "3.10.11"
  }
 },
 "nbformat": 4,
 "nbformat_minor": 2
}
