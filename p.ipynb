{
 "cells": [
  {
   "cell_type": "code",
   "execution_count": 1,
   "metadata": {},
   "outputs": [
    {
     "name": "stdout",
     "output_type": "stream",
     "text": [
      "Matriz de Adyacencias:\n",
      "0 3 2\n",
      "3 0 2\n",
      "4 1 0\n"
     ]
    }
   ],
   "source": [
    "# Solicita al usuario ingresar la cantidad de nodos.\n",
    "num_nodos = int(input(\"Ingrese la cantidad de nodos: \"))\n",
    "\n",
    "# Crea una matriz de adyacencias inicializada con ceros.\n",
    "matriz_adyacencias = [[0] * num_nodos for _ in range(num_nodos)]\n",
    "\n",
    "# Llena la matriz de adyacencias con los pesos de las conexiones.\n",
    "for i in range(num_nodos):\n",
    "    for j in range(num_nodos):\n",
    "        if i != j:\n",
    "            peso = int(input(f\"Ingrese el peso entre el nodo {i + 1} y el nodo {j + 1} (o 0 si no hay conexión): \"))\n",
    "            matriz_adyacencias[i][j] = peso\n",
    "\n",
    "# Imprime la matriz de adyacencias.\n",
    "print(\"Matriz de Adyacencias:\")\n",
    "for fila in matriz_adyacencias:\n",
    "    print(\" \".join(map(str, fila)))"
   ]
  }
 ],
 "metadata": {
  "kernelspec": {
   "display_name": "Python 3",
   "language": "python",
   "name": "python3"
  },
  "language_info": {
   "codemirror_mode": {
    "name": "ipython",
    "version": 3
   },
   "file_extension": ".py",
   "mimetype": "text/x-python",
   "name": "python",
   "nbconvert_exporter": "python",
   "pygments_lexer": "ipython3",
   "version": "3.10.11"
  },
  "orig_nbformat": 4
 },
 "nbformat": 4,
 "nbformat_minor": 2
}
