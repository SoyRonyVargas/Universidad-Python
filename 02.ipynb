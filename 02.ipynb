{
 "cells": [
  {
   "cell_type": "code",
   "execution_count": 5,
   "metadata": {},
   "outputs": [
    {
     "name": "stdout",
     "output_type": "stream",
     "text": [
      "15\n",
      "1825357497008\n",
      "Juan Perez\n",
      "9988998899\n",
      "test@gmail.com\n"
     ]
    }
   ],
   "source": [
    "x = 10\n",
    "y = 5\n",
    "z = x + y\n",
    "print(z)\n",
    "\n",
    "# posicion de memoria donde esta almacenado el valor\n",
    "print(id(z))\n",
    "\n",
    "# ejercicio\n",
    "\n",
    "name = \"Juan Perez\"\n",
    "phone_number = 9988998899\n",
    "email = \"test@gmail.com\"\n",
    "\n",
    "print(name)\n",
    "print(phone_number)\n",
    "print(email)\n"
   ]
  }
 ],
 "metadata": {
  "kernelspec": {
   "display_name": "Python 3",
   "language": "python",
   "name": "python3"
  },
  "language_info": {
   "codemirror_mode": {
    "name": "ipython",
    "version": 3
   },
   "file_extension": ".py",
   "mimetype": "text/x-python",
   "name": "python",
   "nbconvert_exporter": "python",
   "pygments_lexer": "ipython3",
   "version": "3.10.10"
  },
  "orig_nbformat": 4,
  "vscode": {
   "interpreter": {
    "hash": "1300236864cd79a7797f79b8f967c3861f9d18395da788280e648157cb3e89b0"
   }
  }
 },
 "nbformat": 4,
 "nbformat_minor": 2
}
