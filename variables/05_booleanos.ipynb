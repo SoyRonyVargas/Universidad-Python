{
 "cells": [
  {
   "cell_type": "code",
   "execution_count": 12,
   "metadata": {},
   "outputs": [
    {
     "name": "stdout",
     "output_type": "stream",
     "text": [
      "False\n",
      "Es falso\n"
     ]
    }
   ],
   "source": [
    "num1 = 1\n",
    "num2 = 3\n",
    "\n",
    "cond = num1 > num2\n",
    "\n",
    "print( cond )\n",
    "\n",
    "if cond:\n",
    "    print(\"Es verdadero\")\n",
    "else:\n",
    "    print(\"Es falso\")\n"
   ]
  },
  {
   "cell_type": "code",
   "execution_count": 13,
   "metadata": {},
   "outputs": [
    {
     "name": "stdout",
     "output_type": "stream",
     "text": [
      "El resultado es 3\n"
     ]
    }
   ],
   "source": [
    "# FUNCION INPUT\n",
    "\n",
    "n1 = input(\"Dame el valor 1\")\n",
    "n2 = input(\"Dame el valor 2\")\n",
    "n1 = int(n1)\n",
    "n2 = int(n2)\n",
    "print(\"El resultado es \" + str(n1 + n2))"
   ]
  }
 ],
 "metadata": {
  "kernelspec": {
   "display_name": "Python 3",
   "language": "python",
   "name": "python3"
  },
  "language_info": {
   "codemirror_mode": {
    "name": "ipython",
    "version": 3
   },
   "file_extension": ".py",
   "mimetype": "text/x-python",
   "name": "python",
   "nbconvert_exporter": "python",
   "pygments_lexer": "ipython3",
   "version": "3.10.11"
  }
 },
 "nbformat": 4,
 "nbformat_minor": 2
}
