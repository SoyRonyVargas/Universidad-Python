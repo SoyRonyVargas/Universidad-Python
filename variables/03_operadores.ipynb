{
 "cells": [
  {
   "cell_type": "markdown",
   "metadata": {},
   "source": [
    "Operadores"
   ]
  },
  {
   "cell_type": "code",
   "execution_count": 3,
   "metadata": {},
   "outputs": [
    {
     "name": "stdout",
     "output_type": "stream",
     "text": [
      "4\n",
      "3\n",
      "6\n",
      "3.3333333333333335\n",
      "3\n",
      "8\n"
     ]
    }
   ],
   "source": [
    "print( 2 + 2 )\n",
    "\n",
    "print( 5 - 2 )\n",
    "\n",
    "print( 3 * 2)\n",
    "\n",
    "print( 10 / 3 )\n",
    "\n",
    "# FORZAR REDONDEDO\n",
    "print( 10 // 3 )\n",
    "\n",
    "# EXPONENTE\n",
    "print( 2 ** 3 )"
   ]
  },
  {
   "cell_type": "markdown",
   "metadata": {},
   "source": [
    "Suma de strings"
   ]
  },
  {
   "cell_type": "code",
   "execution_count": 16,
   "metadata": {},
   "outputs": [
    {
     "name": "stdout",
     "output_type": "stream",
     "text": [
      "Hola Python\n",
      "Hola 5\n",
      "Hola 5\n",
      "Hola Hola Hola Hola Hola \n",
      "Hola Hola Hola Hola Hola \n"
     ]
    }
   ],
   "source": [
    "print(\"Hola\" + \" Python\")\n",
    "\n",
    "print(\"Hola \" + str(5))\n",
    "\n",
    "print(\"Hola\" , 5)\n",
    "\n",
    "print(\"Hola \" * 5)\n",
    "\n",
    "TOTAL = 2.5 * 2 \n",
    "# NO SE PUEDE MULTIPLICAR POR FLOAT (5.0)\n",
    "# print(\"Hola \" * TOTAL)\n",
    "\n",
    "# hay que pasarlo a int\n",
    "print(\"Hola \" * int(TOTAL))\n"
   ]
  },
  {
   "cell_type": "markdown",
   "metadata": {},
   "source": [
    "Operadores Comparativos"
   ]
  },
  {
   "cell_type": "code",
   "execution_count": 22,
   "metadata": {},
   "outputs": [
    {
     "name": "stdout",
     "output_type": "stream",
     "text": [
      "False\n",
      "True\n",
      "True\n",
      "True\n",
      "False\n",
      "True\n"
     ]
    }
   ],
   "source": [
    "print( 3 > 5 )\n",
    "\n",
    "print( 3 < 5 )\n",
    "\n",
    "print( 6 >= 5 )\n",
    "\n",
    "print( 5 <= 5 )\n",
    "\n",
    "print( 5 == 4 )\n",
    "\n",
    "print( 7 != 5 )"
   ]
  },
  {
   "cell_type": "code",
   "execution_count": 24,
   "metadata": {},
   "outputs": [
    {
     "name": "stdout",
     "output_type": "stream",
     "text": [
      "False\n",
      "False\n",
      "True\n",
      "True\n",
      "False\n",
      "True\n",
      "False\n",
      "True\n"
     ]
    }
   ],
   "source": [
    "print( \"HOLA\" > \"PYTHON\" )\n",
    "\n",
    "print( len(\"HOLA\") > len(\"PYTHON\") )\n",
    "\n",
    "print( \"HOLA\" < \"PYTHON\" )\n",
    "\n",
    "print( len(\"HOLA\") < len(\"PYTHON\") )\n",
    "\n",
    "print( \"HOLA\" >= \"PYTHON\" )\n",
    "\n",
    "print( \"HOLA\" <= \"PYTHON\" )\n",
    "\n",
    "print( \"HOLA\" == \"PYTHON\" )\n",
    "\n",
    "print( \"HOLA\" != \"PYTHON\" )"
   ]
  },
  {
   "cell_type": "markdown",
   "metadata": {},
   "source": [
    "Operadores Logicos"
   ]
  },
  {
   "cell_type": "code",
   "execution_count": 36,
   "metadata": {},
   "outputs": [
    {
     "name": "stdout",
     "output_type": "stream",
     "text": [
      "And: False\n",
      "Or: True\n",
      "True\n",
      "Negacion: True\n"
     ]
    }
   ],
   "source": [
    "print( \"And:\", 3 > 4 and \"Python\" > \"Javascript\")\n",
    "\n",
    "print( \"Or:\", 3 > 4 or \"Python\" > \"Javascript\")\n",
    "\n",
    "print( (3 > 4 or \"Python\" > \"Javascript\") and 3 != 4 )\n",
    "\n",
    "print( \"Negacion:\" , not( 3 > 4 ) )"
   ]
  }
 ],
 "metadata": {
  "kernelspec": {
   "display_name": "Python 3",
   "language": "python",
   "name": "python3"
  },
  "language_info": {
   "codemirror_mode": {
    "name": "ipython",
    "version": 3
   },
   "file_extension": ".py",
   "mimetype": "text/x-python",
   "name": "python",
   "nbconvert_exporter": "python",
   "pygments_lexer": "ipython3",
   "version": "3.10.11"
  },
  "orig_nbformat": 4,
  "vscode": {
   "interpreter": {
    "hash": "1300236864cd79a7797f79b8f967c3861f9d18395da788280e648157cb3e89b0"
   }
  }
 },
 "nbformat": 4,
 "nbformat_minor": 2
}
