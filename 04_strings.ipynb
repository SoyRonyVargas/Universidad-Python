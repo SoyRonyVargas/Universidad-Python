{
 "cells": [
  {
   "cell_type": "markdown",
   "metadata": {},
   "source": [
    "Strings"
   ]
  },
  {
   "cell_type": "code",
   "execution_count": 1,
   "metadata": {},
   "outputs": [
    {
     "name": "stdout",
     "output_type": "stream",
     "text": [
      "Len: 4\n",
      "Concatenar Hola Mundo\n",
      "Salto de linea \n",
      "Hola Mundo\n",
      "\t tabulacion\n"
     ]
    }
   ],
   "source": [
    "my_string = \"Hola\"\n",
    "\n",
    "print(\"Len:\" , len(my_string))\n",
    "\n",
    "print(\"Concatenar \" + my_string + \" Mundo\")\n",
    "\n",
    "print(\"Salto de linea \\n\" + my_string + \" Mundo\")\n",
    "\n",
    "print(\"\\t tabulacion\")"
   ]
  },
  {
   "cell_type": "markdown",
   "metadata": {},
   "source": [
    "Formateo"
   ]
  },
  {
   "cell_type": "code",
   "execution_count": 11,
   "metadata": {},
   "outputs": [
    {
     "name": "stdout",
     "output_type": "stream",
     "text": [
      "My name is Javix Moure and my age is 23\n",
      "My name is Javix Moure and my age is 23\n"
     ]
    }
   ],
   "source": [
    "name , surname , age = \"Javix\" , \"Moure\" , 23\n",
    "\n",
    "print(f\"My name is {name} {surname} and my age is {age}\")\n",
    "\n",
    "print('My name is {} {} and my age is {}'.format(name, surname ,age))"
   ]
  },
  {
   "cell_type": "markdown",
   "metadata": {},
   "source": [
    "Desempaquetado de caracteres"
   ]
  },
  {
   "cell_type": "code",
   "execution_count": 14,
   "metadata": {},
   "outputs": [
    {
     "name": "stdout",
     "output_type": "stream",
     "text": [
      "P\n",
      "n\n"
     ]
    }
   ],
   "source": [
    "python = \"Python\"\n",
    "\n",
    "a , b , c , d , e , f = python\n",
    "\n",
    "print(a)\n",
    "\n",
    "print(f)\n",
    "\n",
    "# print(g)"
   ]
  },
  {
   "cell_type": "markdown",
   "metadata": {},
   "source": [
    "Division\n"
   ]
  },
  {
   "cell_type": "code",
   "execution_count": 23,
   "metadata": {},
   "outputs": [
    {
     "name": "stdout",
     "output_type": "stream",
     "text": [
      "Pyt\n",
      "thon\n",
      "on\n",
      "nohtyP\n"
     ]
    }
   ],
   "source": [
    "texto_cortado = python[0:3]\n",
    "\n",
    "print(texto_cortado)\n",
    "\n",
    "texto_cortado = python[2:]\n",
    "\n",
    "print(texto_cortado)\n",
    "\n",
    "texto_cortado = python[-2:]\n",
    "\n",
    "print(texto_cortado)\n",
    "\n",
    "# TEXTO ALREVEZ\n",
    "\n",
    "texto_cortado = python[::-1]\n",
    "\n",
    "print(texto_cortado)"
   ]
  }
 ],
 "metadata": {
  "kernelspec": {
   "display_name": "Python 3",
   "language": "python",
   "name": "python3"
  },
  "language_info": {
   "codemirror_mode": {
    "name": "ipython",
    "version": 3
   },
   "file_extension": ".py",
   "mimetype": "text/x-python",
   "name": "python",
   "nbconvert_exporter": "python",
   "pygments_lexer": "ipython3",
   "version": "3.10.11"
  },
  "orig_nbformat": 4
 },
 "nbformat": 4,
 "nbformat_minor": 2
}
