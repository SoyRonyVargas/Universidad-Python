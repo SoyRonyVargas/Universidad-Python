{
 "cells": [
  {
   "cell_type": "code",
   "execution_count": 3,
   "metadata": {},
   "outputs": [],
   "source": [
    "# VARIABLES\n",
    "x = 10"
   ]
  },
  {
   "cell_type": "code",
   "execution_count": 4,
   "metadata": {},
   "outputs": [
    {
     "name": "stdout",
     "output_type": "stream",
     "text": [
      "15\n",
      "2330521830064\n",
      "\n",
      "Nombre: Juan Perez 2\n",
      "Telefono: 9988998899\n",
      "Correo: test@gmail.com\n",
      "5\n",
      "<class 'str'>\n",
      "5 10\n",
      "Mi string\n",
      "<class 'NoneType'>\n"
     ]
    }
   ],
   "source": [
    "y = 5\n",
    "z = x + y\n",
    "print(z)\n",
    "\n",
    "# posicion de memoria donde esta almacenado el valor\n",
    "print(id(z))\n",
    "\n",
    "# ejercicio\n",
    "name = \"Juan Perez 2\"\n",
    "phone_number = 9988998899\n",
    "email = \"test@gmail.com\"\n",
    "\n",
    "# SALTO DE LINEA \n",
    "print()\n",
    "\n",
    "print(\"Nombre: \" + name)\n",
    "print(f\"Telefono: {phone_number}\")\n",
    "print(f\"Correo: {email}\")\n",
    "\n",
    "my_int_variable = 5\n",
    "\n",
    "# SIN CAMBIO DE TIPO\n",
    "print(my_int_variable)\n",
    "\n",
    "# CAMBIAMOS EL TIPO\n",
    "my_int_variable = str(my_int_variable)\n",
    "\n",
    "# OUTPUT: STR\n",
    "print(type(my_int_variable)) \n",
    "\n",
    "# CONCATENAR VARIABLES EN PRINT\n",
    "print(my_int_variable , x)\n",
    "\n",
    "# NoneType\n",
    "print(type(print(\"Mi string\")))\n"
   ]
  },
  {
   "cell_type": "code",
   "execution_count": 10,
   "metadata": {},
   "outputs": [
    {
     "name": "stdout",
     "output_type": "stream",
     "text": [
      "1\n",
      "14\n"
     ]
    }
   ],
   "source": [
    "# FUNCIONES DEL SISTEMA\n",
    "\n",
    "print(len(my_int_variable))\n",
    "\n",
    "print(len(email))"
   ]
  }
 ],
 "metadata": {
  "kernelspec": {
   "display_name": "Python 3",
   "language": "python",
   "name": "python3"
  },
  "language_info": {
   "codemirror_mode": {
    "name": "ipython",
    "version": 3
   },
   "file_extension": ".py",
   "mimetype": "text/x-python",
   "name": "python",
   "nbconvert_exporter": "python",
   "pygments_lexer": "ipython3",
   "version": "3.10.11"
  },
  "orig_nbformat": 4,
  "vscode": {
   "interpreter": {
    "hash": "1300236864cd79a7797f79b8f967c3861f9d18395da788280e648157cb3e89b0"
   }
  }
 },
 "nbformat": 4,
 "nbformat_minor": 2
}
