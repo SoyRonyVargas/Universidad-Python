{
 "cells": [
  {
   "cell_type": "code",
   "execution_count": 27,
   "metadata": {},
   "outputs": [
    {
     "name": "stdout",
     "output_type": "stream",
     "text": [
      "<class 'type'>\n",
      "<class '__main__.Persona'>\n",
      "<__main__.Persona object at 0x0000022EB3013700>\n",
      "<__main__.Persona object at 0x0000022EB3012A10>\n",
      "Sexo\n",
      "Perez\n",
      "22\n"
     ]
    }
   ],
   "source": [
    "class Persona:\n",
    "    \n",
    "    #constructor de la clase\n",
    "    def __init__(self, nombre = 'Default' , apellido = 'AP', edad = 18 ):\n",
    "        # asignamos a la instancia del objeto\n",
    "        self.nombre = nombre\n",
    "        self.apellido = apellido\n",
    "        self.edad = edad\n",
    "\n",
    "persona1 = Persona('Sexo', 'Perez', 22)\n",
    "persona2 = Persona('Aris', 'Gomez', 19)\n",
    "\n",
    "print(type(Persona))\n",
    "print(type(persona1))\n",
    "print(persona1)\n",
    "print(persona2)\n",
    "print(persona1.nombre)\n",
    "print(persona1.apellido)\n",
    "print(persona1.edad)"
   ]
  }
 ],
 "metadata": {
  "kernelspec": {
   "display_name": "Python 3",
   "language": "python",
   "name": "python3"
  },
  "language_info": {
   "codemirror_mode": {
    "name": "ipython",
    "version": 3
   },
   "file_extension": ".py",
   "mimetype": "text/x-python",
   "name": "python",
   "nbconvert_exporter": "python",
   "pygments_lexer": "ipython3",
   "version": "3.10.11"
  }
 },
 "nbformat": 4,
 "nbformat_minor": 2
}
