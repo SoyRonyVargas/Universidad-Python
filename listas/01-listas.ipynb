{
 "cells": [
  {
   "cell_type": "code",
   "execution_count": 45,
   "metadata": {},
   "outputs": [
    {
     "name": "stdout",
     "output_type": "stream",
     "text": [
      "['Edison']\n",
      "['Edison', 'Adamaris', 'Beto']\n",
      "['Edison', 'Adamaris', 'Beto', 'Angel']\n",
      "['Edison', 'Adamaris', 'Beto', 'Maria']\n"
     ]
    }
   ],
   "source": [
    "nombres = [ 'Edison', 'Adamaris' , 'Beto', 'Angel' ]\n",
    "\n",
    "# print(nombres[0])\n",
    "# print(nombres[1])\n",
    "# print(nombres[2])\n",
    "# print(nombres[3])\n",
    "# print(nombres[-1])\n",
    "\n",
    "# cortar el array\n",
    "print(nombres[0:1])\n",
    "\n",
    "# del inicio al indice 3\n",
    "print(nombres[:3])\n",
    "\n",
    "# del inicio al final\n",
    "# print(nombres[0:])\n",
    "print(nombres[:])\n",
    "\n",
    "# Reasignar una posicion del arreglo\n",
    "nombres[3] = 'Maria'\n",
    "\n",
    "print(nombres)"
   ]
  },
  {
   "cell_type": "markdown",
   "metadata": {},
   "source": [
    "#### Largo de una lista"
   ]
  },
  {
   "cell_type": "code",
   "execution_count": 46,
   "metadata": {},
   "outputs": [
    {
     "data": {
      "text/plain": [
       "4"
      ]
     },
     "execution_count": 46,
     "metadata": {},
     "output_type": "execute_result"
    }
   ],
   "source": [
    "len(nombres)"
   ]
  },
  {
   "cell_type": "markdown",
   "metadata": {},
   "source": [
    "#### Agregar elemento"
   ]
  },
  {
   "cell_type": "code",
   "execution_count": 47,
   "metadata": {},
   "outputs": [
    {
     "name": "stdout",
     "output_type": "stream",
     "text": [
      "['Edison', 'Adamaris', 'Beto', 'Maria', 'Marco']\n"
     ]
    }
   ],
   "source": [
    "nombres.append('Marco')\n",
    "print(nombres)"
   ]
  },
  {
   "cell_type": "markdown",
   "metadata": {},
   "source": [
    "#### Insertar en un indice especifico"
   ]
  },
  {
   "cell_type": "code",
   "execution_count": 48,
   "metadata": {},
   "outputs": [
    {
     "name": "stdout",
     "output_type": "stream",
     "text": [
      "['Edison', 'Catalan', 'Adamaris', 'Beto', 'Maria', 'Marco']\n"
     ]
    }
   ],
   "source": [
    "nombres.insert( 1 , 'Catalan' )\n",
    "print(nombres)"
   ]
  },
  {
   "cell_type": "markdown",
   "metadata": {},
   "source": [
    "#### Remover elemento"
   ]
  },
  {
   "cell_type": "code",
   "execution_count": 49,
   "metadata": {},
   "outputs": [
    {
     "name": "stdout",
     "output_type": "stream",
     "text": [
      "['Edison', 'Adamaris', 'Beto', 'Maria', 'Marco']\n"
     ]
    }
   ],
   "source": [
    "nombres.remove( 'Catalan' )\n",
    "print(nombres)"
   ]
  },
  {
   "cell_type": "markdown",
   "metadata": {},
   "source": [
    "#### Remover el ultimo elemento de la lista"
   ]
  },
  {
   "cell_type": "code",
   "execution_count": 50,
   "metadata": {},
   "outputs": [
    {
     "name": "stdout",
     "output_type": "stream",
     "text": [
      "['Edison', 'Adamaris', 'Beto', 'Maria']\n"
     ]
    }
   ],
   "source": [
    "nombres.pop()\n",
    "print(nombres)"
   ]
  },
  {
   "cell_type": "markdown",
   "metadata": {},
   "source": [
    "#### Remover un indice"
   ]
  },
  {
   "cell_type": "code",
   "execution_count": 51,
   "metadata": {},
   "outputs": [
    {
     "data": {
      "text/plain": [
       "['Adamaris', 'Beto', 'Maria']"
      ]
     },
     "execution_count": 51,
     "metadata": {},
     "output_type": "execute_result"
    }
   ],
   "source": [
    "del nombres[0]\n",
    "nombres"
   ]
  },
  {
   "cell_type": "markdown",
   "metadata": {},
   "source": [
    "#### Limpiar lista"
   ]
  },
  {
   "cell_type": "code",
   "execution_count": 52,
   "metadata": {},
   "outputs": [
    {
     "data": {
      "text/plain": [
       "[]"
      ]
     },
     "execution_count": 52,
     "metadata": {},
     "output_type": "execute_result"
    }
   ],
   "source": [
    "nombres.clear()\n",
    "nombres"
   ]
  },
  {
   "cell_type": "markdown",
   "metadata": {},
   "source": [
    "#### Eliminar de la memoria la lista"
   ]
  },
  {
   "cell_type": "code",
   "execution_count": 53,
   "metadata": {},
   "outputs": [
    {
     "ename": "NameError",
     "evalue": "name 'nombres' is not defined",
     "output_type": "error",
     "traceback": [
      "\u001b[1;31m---------------------------------------------------------------------------\u001b[0m",
      "\u001b[1;31mNameError\u001b[0m                                 Traceback (most recent call last)",
      "Cell \u001b[1;32mIn[53], line 2\u001b[0m\n\u001b[0;32m      1\u001b[0m \u001b[38;5;28;01mdel\u001b[39;00m nombres\n\u001b[1;32m----> 2\u001b[0m \u001b[43mnombres\u001b[49m\n",
      "\u001b[1;31mNameError\u001b[0m: name 'nombres' is not defined"
     ]
    }
   ],
   "source": [
    "del nombres\n",
    "nombres"
   ]
  }
 ],
 "metadata": {
  "kernelspec": {
   "display_name": "Python 3",
   "language": "python",
   "name": "python3"
  },
  "language_info": {
   "codemirror_mode": {
    "name": "ipython",
    "version": 3
   },
   "file_extension": ".py",
   "mimetype": "text/x-python",
   "name": "python",
   "nbconvert_exporter": "python",
   "pygments_lexer": "ipython3",
   "version": "3.10.11"
  }
 },
 "nbformat": 4,
 "nbformat_minor": 2
}
