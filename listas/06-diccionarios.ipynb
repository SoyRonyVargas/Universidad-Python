{
 "cells": [
  {
   "cell_type": "markdown",
   "metadata": {},
   "source": [
    "#### Crear un diccionario"
   ]
  },
  {
   "cell_type": "code",
   "execution_count": 14,
   "metadata": {},
   "outputs": [
    {
     "name": "stdout",
     "output_type": "stream",
     "text": [
      "{'nombre': 'Milo', 'apellidos': 'Porraz', 'edad': '5 years', 'peso': '16kg'}\n"
     ]
    }
   ],
   "source": [
    "diccionario = {\n",
    "    'nombre':'Milo',\n",
    "    'apellidos': 'Porraz',\n",
    "    'edad': '5 years',\n",
    "    'peso': '16kg'\n",
    "}\n",
    "\n",
    "print(diccionario)"
   ]
  },
  {
   "cell_type": "markdown",
   "metadata": {},
   "source": [
    "#### Largo de los elementos"
   ]
  },
  {
   "cell_type": "code",
   "execution_count": 15,
   "metadata": {},
   "outputs": [
    {
     "name": "stdout",
     "output_type": "stream",
     "text": [
      "4\n"
     ]
    }
   ],
   "source": [
    "print(len(diccionario))"
   ]
  },
  {
   "cell_type": "markdown",
   "metadata": {},
   "source": [
    "#### Acceder a un elemento"
   ]
  },
  {
   "cell_type": "code",
   "execution_count": 16,
   "metadata": {},
   "outputs": [
    {
     "name": "stdout",
     "output_type": "stream",
     "text": [
      "Milo\n",
      "Porraz\n",
      "5 years\n"
     ]
    }
   ],
   "source": [
    "print(diccionario['nombre'])\n",
    "print(diccionario['apellidos'])\n",
    "\n",
    "# otra forma\n",
    "print(diccionario.get('edad'))"
   ]
  },
  {
   "cell_type": "markdown",
   "metadata": {},
   "source": [
    "#### Modificar elementos"
   ]
  },
  {
   "cell_type": "code",
   "execution_count": 17,
   "metadata": {},
   "outputs": [
    {
     "name": "stdout",
     "output_type": "stream",
     "text": [
      "{'nombre': 'Milo', 'apellidos': 'Porraz', 'edad': '5 years', 'peso': '20 libras'}\n"
     ]
    }
   ],
   "source": [
    "diccionario['peso'] = '20 libras'\n",
    "print(diccionario)"
   ]
  },
  {
   "cell_type": "markdown",
   "metadata": {},
   "source": [
    "#### Recorrer un diccionario"
   ]
  },
  {
   "cell_type": "code",
   "execution_count": 24,
   "metadata": {},
   "outputs": [
    {
     "name": "stdout",
     "output_type": "stream",
     "text": [
      "diccionario.items()\n",
      "llave: nombre\n",
      "valor: Milo\n",
      "\n",
      "llave: apellidos\n",
      "valor: Porraz\n",
      "\n",
      "llave: edad\n",
      "valor: 5 years\n",
      "\n",
      "llave: peso\n",
      "valor: 20 libras\n",
      "\n",
      "diccionario.keys()\n",
      "llave: nombre\n",
      "\n",
      "llave: apellidos\n",
      "\n",
      "llave: edad\n",
      "\n",
      "llave: peso\n",
      "\n",
      "diccionario.values()\n",
      "valor: Milo\n",
      "\n",
      "valor: Porraz\n",
      "\n",
      "valor: 5 years\n",
      "\n",
      "valor: 20 libras\n",
      "\n"
     ]
    }
   ],
   "source": [
    "# pasar la funcion .items()\n",
    "print('diccionario.items()')\n",
    "\n",
    "for llave,valor in diccionario.items():\n",
    "    print('llave: ' + llave)\n",
    "    print('valor: ' + valor)\n",
    "    print()\n",
    "\n",
    "print('diccionario.keys()')\n",
    "\n",
    "for llave in diccionario.keys():\n",
    "    print('llave: ' + llave)\n",
    "    print()\n",
    "\n",
    "print('diccionario.values()')\n",
    "\n",
    "for llave in diccionario.values():\n",
    "    print('valor: ' + llave)\n",
    "    print()"
   ]
  },
  {
   "cell_type": "markdown",
   "metadata": {},
   "source": [
    "#### Ver si existe un elemento"
   ]
  },
  {
   "cell_type": "code",
   "execution_count": 26,
   "metadata": {},
   "outputs": [
    {
     "name": "stdout",
     "output_type": "stream",
     "text": [
      "True\n",
      "False\n"
     ]
    }
   ],
   "source": [
    "print('edad' in diccionario)\n",
    "print('Edad' in diccionario)"
   ]
  },
  {
   "cell_type": "markdown",
   "metadata": {},
   "source": [
    "#### Agregar elemento"
   ]
  },
  {
   "cell_type": "code",
   "execution_count": 27,
   "metadata": {},
   "outputs": [
    {
     "name": "stdout",
     "output_type": "stream",
     "text": [
      "{'nombre': 'Milo', 'apellidos': 'Porraz', 'edad': '5 years', 'peso': '20 libras', 'primaryKey': 1}\n"
     ]
    }
   ],
   "source": [
    "diccionario['primaryKey'] = 1\n",
    "\n",
    "print(diccionario)"
   ]
  },
  {
   "cell_type": "markdown",
   "metadata": {},
   "source": [
    "#### Remover un elemento"
   ]
  },
  {
   "cell_type": "code",
   "execution_count": 28,
   "metadata": {},
   "outputs": [
    {
     "name": "stdout",
     "output_type": "stream",
     "text": [
      "{'nombre': 'Milo', 'apellidos': 'Porraz', 'peso': '20 libras', 'primaryKey': 1}\n"
     ]
    }
   ],
   "source": [
    "diccionario.pop('edad')\n",
    "\n",
    "print(diccionario)"
   ]
  },
  {
   "cell_type": "markdown",
   "metadata": {},
   "source": [
    "#### Limpiar el diccionario"
   ]
  },
  {
   "cell_type": "code",
   "execution_count": 29,
   "metadata": {},
   "outputs": [
    {
     "name": "stdout",
     "output_type": "stream",
     "text": [
      "{}\n"
     ]
    }
   ],
   "source": [
    "diccionario.clear()\n",
    "print(diccionario)"
   ]
  },
  {
   "cell_type": "markdown",
   "metadata": {},
   "source": [
    "#### Eliminar el diccionario"
   ]
  },
  {
   "cell_type": "code",
   "execution_count": null,
   "metadata": {},
   "outputs": [],
   "source": [
    "del diccionario"
   ]
  }
 ],
 "metadata": {
  "kernelspec": {
   "display_name": "Python 3",
   "language": "python",
   "name": "python3"
  },
  "language_info": {
   "codemirror_mode": {
    "name": "ipython",
    "version": 3
   },
   "file_extension": ".py",
   "mimetype": "text/x-python",
   "name": "python",
   "nbconvert_exporter": "python",
   "pygments_lexer": "ipython3",
   "version": "3.12.0"
  }
 },
 "nbformat": 4,
 "nbformat_minor": 2
}
